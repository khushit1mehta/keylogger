{
 "cells": [
  {
   "cell_type": "code",
   "execution_count": 1,
   "id": "35e79ecd",
   "metadata": {},
   "outputs": [],
   "source": [
    "from pynput.mouse import Controller"
   ]
  },
  {
   "cell_type": "code",
   "execution_count": 2,
   "id": "9acbc391",
   "metadata": {},
   "outputs": [],
   "source": [
    "def controlmouse():\n",
    "    mouse=Controller()\n",
    "    mouse.position = (1000,100)"
   ]
  },
  {
   "cell_type": "code",
   "execution_count": 3,
   "id": "8d51bd7f",
   "metadata": {},
   "outputs": [],
   "source": [
    "controlmouse()"
   ]
  },
  {
   "cell_type": "code",
   "execution_count": 8,
   "id": "05bfb189",
   "metadata": {},
   "outputs": [],
   "source": [
    "from pynput.keyboard import Controller"
   ]
  },
  {
   "cell_type": "code",
   "execution_count": 9,
   "id": "66d75ba3",
   "metadata": {},
   "outputs": [],
   "source": [
    "def controlkey():\n",
    "    keyboard = Controller()\n",
    "    keyboard.type(\"I am king khushit \")"
   ]
  },
  {
   "cell_type": "code",
   "execution_count": 11,
   "id": "f812c43f",
   "metadata": {},
   "outputs": [],
   "source": [
    "controlkey()"
   ]
  },
  {
   "cell_type": "code",
   "execution_count": 12,
   "id": "d7f70d35",
   "metadata": {},
   "outputs": [],
   "source": [
    "# I AM KING KHUSHIT \n"
   ]
  },
  {
   "cell_type": "code",
   "execution_count": null,
   "id": "957e3d1f",
   "metadata": {},
   "outputs": [],
   "source": [
    "\n",
    "# from pynput.mouse import Listener\n",
    "\n"
   ]
  },
  {
   "cell_type": "code",
   "execution_count": null,
   "id": "b0232c9c",
   "metadata": {},
   "outputs": [],
   "source": [
    "def writemouse(x,y):\n",
    "    print(\"Position {0}\".format((x,y)))"
   ]
  },
  {
   "cell_type": "code",
   "execution_count": null,
   "id": "a3a0a0c1",
   "metadata": {},
   "outputs": [],
   "source": [
    "# with Listener(on_move=writemouse) as l:\n",
    "#     l.join()"
   ]
  },
  {
   "cell_type": "code",
   "execution_count": null,
   "id": "307af9d3",
   "metadata": {},
   "outputs": [],
   "source": [
    "Listener?"
   ]
  },
  {
   "cell_type": "markdown",
   "id": "01269f95",
   "metadata": {},
   "source": []
  },
  {
   "cell_type": "code",
   "execution_count": null,
   "id": "a5b51122",
   "metadata": {},
   "outputs": [],
   "source": [
    "# f=open(\"base.txt\",'w')\n",
    "# f.write(\"let's start the game\")\n",
    "# f.close()\n",
    "# f2=open(\"base.txt\",'r')\n",
    "# readd=f2.read()\n",
    "# readd\n",
    "# f3=open(\"base.txt\",'a')\n",
    "# f3.write(\"\\n kingkm01\")\n",
    "# f3.close()\n",
    "# with open(\"base.txt\",'a') as f4:\n",
    "#     f4.write(\"hello from the dark side\")\n",
    "# from pynput.mouse import Controller\n"
   ]
  }
 ],
 "metadata": {
  "kernelspec": {
   "display_name": "Python 3",
   "language": "python",
   "name": "python3"
  },
  "language_info": {
   "codemirror_mode": {
    "name": "ipython",
    "version": 3
   },
   "file_extension": ".py",
   "mimetype": "text/x-python",
   "name": "python",
   "nbconvert_exporter": "python",
   "pygments_lexer": "ipython3",
   "version": "3.8.8"
  }
 },
 "nbformat": 4,
 "nbformat_minor": 5
}
